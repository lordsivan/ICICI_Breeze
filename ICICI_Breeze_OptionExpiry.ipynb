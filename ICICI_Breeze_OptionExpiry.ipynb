{
  "nbformat": 4,
  "nbformat_minor": 0,
  "metadata": {
    "colab": {
      "provenance": [],
      "authorship_tag": "ABX9TyP/RdBN4CKhBT2IQdB3nU//",
      "include_colab_link": true
    },
    "kernelspec": {
      "name": "python3",
      "display_name": "Python 3"
    },
    "language_info": {
      "name": "python"
    }
  },
  "cells": [
    {
      "cell_type": "markdown",
      "metadata": {
        "id": "view-in-github",
        "colab_type": "text"
      },
      "source": [
        "<a href=\"https://colab.research.google.com/github/lordsivan/ICICI_Breeze/blob/main/ICICI_Breeze_OptionExpiry.ipynb\" target=\"_parent\"><img src=\"https://colab.research.google.com/assets/colab-badge.svg\" alt=\"Open In Colab\"/></a>"
      ]
    },
    {
      "cell_type": "code",
      "execution_count": 1,
      "metadata": {
        "id": "K6JhbH8zqTS9"
      },
      "outputs": [],
      "source": [
        "#1.  Download securityMaster from ICICI direct site. This file is uploaded every day\n",
        "#2. Extract the zip in local directory\n",
        "\n",
        "import urllib.request\n",
        "from zipfile import ZipFile\n",
        "import io\n",
        "\n",
        "resp =  urllib.request.urlopen('https://directlink.icicidirect.com/NewSecurityMaster/SecurityMaster.zip')\n",
        "myzip = ZipFile(io.BytesIO(resp.read()))\n",
        "myzip.extractall()"
      ]
    },
    {
      "cell_type": "code",
      "source": [
        "#3. Read csv in pandas\n",
        "\n",
        "import pandas as pd\n",
        "df_fo = pd.read_csv('FONSEScripMaster.txt')"
      ],
      "metadata": {
        "id": "iUn5Bvdi8XOB"
      },
      "execution_count": 2,
      "outputs": []
    },
    {
      "cell_type": "code",
      "source": [
        "#4. Convert String ExpiryDate to datetime\n",
        "df_fo['ExpiryDate']=pd.to_datetime(df_fo['ExpiryDate'])\n",
        "\n",
        "\n",
        "#5. Filter stock/index you are intersted in\n",
        "stock_code=\"CNXBAN\"\n",
        "OPTION=df_fo[(df_fo['Series']==\"OPTION\") & (df_fo['ShortName']==stock_code)]\n",
        "\n",
        "\n",
        "#6. Sort by Expiry date\n",
        "OPTION = OPTION.sort_values(by = ['ExpiryDate'], ascending = [True], na_position = 'first')\n",
        "next_OPTION_expiry=OPTION.ExpiryDate.unique()[0]\n",
        "\n",
        "\n",
        "#7. Output\n",
        "print(\"next OPTION Expiry =  \",next_OPTION_expiry)\n",
        "print(\"OPTION Expiry for = \", stock_code,   \"\\n\",  OPTION['ExpiryDate'])"
      ],
      "metadata": {
        "colab": {
          "base_uri": "https://localhost:8080/"
        },
        "id": "BgfHzuRrsIMO",
        "outputId": "745cbcc8-1ad7-4363-e7f0-823d7bc8158a"
      },
      "execution_count": 3,
      "outputs": [
        {
          "output_type": "stream",
          "name": "stdout",
          "text": [
            "next OPTION Expiry =   2023-10-18T00:00:00.000000000\n",
            "OPTION Expiry for =  CNXBAN \n",
            " 13230   2023-10-18\n",
            "13192   2023-10-18\n",
            "13185   2023-10-18\n",
            "13184   2023-10-18\n",
            "13181   2023-10-18\n",
            "           ...    \n",
            "21560   2023-12-28\n",
            "14888   2024-03-28\n",
            "14889   2024-03-28\n",
            "14895   2024-03-28\n",
            "14897   2024-03-28\n",
            "Name: ExpiryDate, Length: 2024, dtype: datetime64[ns]\n"
          ]
        }
      ]
    }
  ]
}