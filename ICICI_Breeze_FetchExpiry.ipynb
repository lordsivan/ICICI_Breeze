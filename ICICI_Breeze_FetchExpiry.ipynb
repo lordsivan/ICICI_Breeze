{
  "nbformat": 4,
  "nbformat_minor": 0,
  "metadata": {
    "colab": {
      "provenance": [],
      "authorship_tag": "ABX9TyNdg59r0Pnbxm9GziNXXp02",
      "include_colab_link": true
    },
    "kernelspec": {
      "name": "python3",
      "display_name": "Python 3"
    },
    "language_info": {
      "name": "python"
    }
  },
  "cells": [
    {
      "cell_type": "markdown",
      "metadata": {
        "id": "view-in-github",
        "colab_type": "text"
      },
      "source": [
        "<a href=\"https://colab.research.google.com/github/lordsivan/ICICI_Breeze/blob/main/ICICI_Breeze_FetchExpiry.ipynb\" target=\"_parent\"><img src=\"https://colab.research.google.com/assets/colab-badge.svg\" alt=\"Open In Colab\"/></a>"
      ]
    },
    {
      "cell_type": "code",
      "execution_count": 35,
      "metadata": {
        "id": "K6JhbH8zqTS9"
      },
      "outputs": [],
      "source": [
        "#1.  Download securityMaster from ICICI direct site. This file is uploaded every day\n",
        "#2. Extract the zip in local directory\n",
        "\n",
        "import urllib.request\n",
        "from zipfile import ZipFile\n",
        "import io\n",
        "\n",
        "resp =  urllib.request.urlopen('https://directlink.icicidirect.com/NewSecurityMaster/SecurityMaster.zip')\n",
        "myzip = ZipFile(io.BytesIO(resp.read()))\n",
        "myzip.extractall()"
      ]
    },
    {
      "cell_type": "code",
      "source": [
        "#3. Read csv in pandas\n",
        "\n",
        "import pandas as pd\n",
        "df_fo = pd.read_csv('FONSEScripMaster.txt')"
      ],
      "metadata": {
        "id": "iUn5Bvdi8XOB"
      },
      "execution_count": 36,
      "outputs": []
    },
    {
      "cell_type": "code",
      "source": [
        "#4. Convert String ExpiryDate to datetime\n",
        "df_fo['ExpiryDate']=pd.to_datetime(df_fo['ExpiryDate'])\n",
        "\n",
        "\n",
        "#5. Filter stock/index you are intersted in\n",
        "stock_code=\"CNXBAN\"\n",
        "FUTURE=df_fo[(df_fo['Series']==\"FUTURE\") & (df_fo['ShortName']==stock_code)]\n",
        "\n",
        "\n",
        "#6. Sort by Expiry date\n",
        "FUTURE = FUTURE.sort_values(by = ['ExpiryDate'], ascending = [True], na_position = 'first')\n",
        "next_Futureexpiry=FUTURE.ExpiryDate.unique()[0]\n",
        "\n",
        "\n",
        "#7. Output\n",
        "print(\"next Future Expiry =  \",next_Futureexpiry)\n",
        "print(\"Future Expiry for = \", stock_code,   \"\\n\",  FUTURE['ExpiryDate'])"
      ],
      "metadata": {
        "colab": {
          "base_uri": "https://localhost:8080/"
        },
        "id": "BgfHzuRrsIMO",
        "outputId": "5b88859c-5d1f-455b-bb1c-8066f35d7103"
      },
      "execution_count": 44,
      "outputs": [
        {
          "output_type": "stream",
          "name": "stdout",
          "text": [
            "next Future Expiry =   2023-10-26T00:00:00.000000000\n",
            "Future Expiry for =  CNXBAN \n",
            " 499   2023-10-26\n",
            "433   2023-11-30\n",
            "235   2023-12-28\n",
            "Name: ExpiryDate, dtype: datetime64[ns]\n"
          ]
        }
      ]
    }
  ]
}